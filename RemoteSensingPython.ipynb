{
  "nbformat": 4,
  "nbformat_minor": 0,
  "metadata": {
    "colab": {
      "provenance": [],
      "authorship_tag": "ABX9TyN6OUp50vAwkpLUQ28C1Nyb",
      "include_colab_link": true
    },
    "kernelspec": {
      "name": "python3",
      "display_name": "Python 3"
    },
    "language_info": {
      "name": "python"
    }
  },
  "cells": [
    {
      "cell_type": "markdown",
      "metadata": {
        "id": "view-in-github",
        "colab_type": "text"
      },
      "source": [
        "<a href=\"https://colab.research.google.com/github/kechcole/Web-Maps-with-Folium/blob/main/RemoteSensingPython.ipynb\" target=\"_parent\"><img src=\"https://colab.research.google.com/assets/colab-badge.svg\" alt=\"Open In Colab\"/></a>"
      ]
    },
    {
      "cell_type": "code",
      "execution_count": 1,
      "metadata": {
        "colab": {
          "base_uri": "https://localhost:8080/"
        },
        "id": "fgdKqy6K_-_H",
        "outputId": "7d86950c-4de0-436e-eaec-9c164a1fb617"
      },
      "outputs": [
        {
          "output_type": "stream",
          "name": "stdout",
          "text": [
            "name\n"
          ]
        }
      ],
      "source": [
        "print('name' )"
      ]
    },
    {
      "cell_type": "code",
      "source": [
        "import pandas\n",
        "from osgeo import gdal\n"
      ],
      "metadata": {
        "id": "T2gpPk-sBkTi"
      },
      "execution_count": 2,
      "outputs": []
    },
    {
      "cell_type": "code",
      "source": [
        "print('successfully installed ')"
      ],
      "metadata": {
        "id": "9UajlNwCEHDY",
        "outputId": "7dc7091c-5e81-4ab6-a154-4b182a15e603",
        "colab": {
          "base_uri": "https://localhost:8080/"
        }
      },
      "execution_count": 3,
      "outputs": [
        {
          "output_type": "stream",
          "name": "stdout",
          "text": [
            "successfully installed \n"
          ]
        }
      ]
    }
  ]
}