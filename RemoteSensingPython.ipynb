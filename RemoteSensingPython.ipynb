{
  "nbformat": 4,
  "nbformat_minor": 0,
  "metadata": {
    "colab": {
      "provenance": [],
      "authorship_tag": "ABX9TyMr7qgDTK8XMeatFuU+Yb9i",
      "include_colab_link": true
    },
    "kernelspec": {
      "name": "python3",
      "display_name": "Python 3"
    },
    "language_info": {
      "name": "python"
    }
  },
  "cells": [
    {
      "cell_type": "markdown",
      "metadata": {
        "id": "view-in-github",
        "colab_type": "text"
      },
      "source": [
        "<a href=\"https://colab.research.google.com/github/kechcole/Web-Maps-with-Folium/blob/main/RemoteSensingPython.ipynb\" target=\"_parent\"><img src=\"https://colab.research.google.com/assets/colab-badge.svg\" alt=\"Open In Colab\"/></a>"
      ]
    },
    {
      "cell_type": "code",
      "execution_count": 2,
      "metadata": {
        "colab": {
          "base_uri": "https://localhost:8080/"
        },
        "id": "fgdKqy6K_-_H",
        "outputId": "6576478c-02f6-4003-f782-cf33e1970d29"
      },
      "outputs": [
        {
          "output_type": "stream",
          "name": "stdout",
          "text": [
            "name\n"
          ]
        }
      ],
      "source": [
        "print('name' )"
      ]
    },
    {
      "cell_type": "code",
      "source": [
        "import pandas\n",
        "from osgeo import gdal\n"
      ],
      "metadata": {
        "id": "T2gpPk-sBkTi"
      },
      "execution_count": 8,
      "outputs": []
    },
    {
      "cell_type": "code",
      "source": [],
      "metadata": {
        "colab": {
          "base_uri": "https://localhost:8080/"
        },
        "id": "-BRAm7bYBrJx",
        "outputId": "b5a7e519-9e71-4561-84e7-6b776b2bd727"
      },
      "execution_count": 6,
      "outputs": [
        {
          "output_type": "stream",
          "name": "stdout",
          "text": [
            "Requirement already satisfied: gdal in /usr/local/lib/python3.10/dist-packages (3.6.4)\n"
          ]
        }
      ]
    }
  ]
}